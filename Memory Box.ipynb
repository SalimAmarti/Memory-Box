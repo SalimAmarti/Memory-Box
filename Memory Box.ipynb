{
 "cells": [
  {
   "cell_type": "markdown",
   "metadata": {},
   "source": [
    "# <h1> MEMORY BOX </h1>"
   ]
  },
  {
   "cell_type": "markdown",
   "metadata": {},
   "source": [
    "A memory box is a game to memorize new words based on the \"flashcard\" method. A \"flashcard\" is a card on which you can write a word on one side of the card, and write one piece of information on the other side. Then when you pick up a card and read one side, the objective is to remember what is written on the other side of the card.\n",
    "It is a well-known and efficient method to connect information together and remember it.\n",
    "\n",
    "In this code, the \"flashcard\" is not only limited to two pieces of information. You can have as many pieces of information as you need to remember. And the code will show you randomly any piece of information written on the \"flashcard\". You will then have to input all the other pieces of information connected to this \"flashcard\". \n",
    "\n",
    "Besides, the code will keep track of your progress. If you fail to remember one or more pieces of information of one \"flashcard\", you will be asked about that same \"flashcard\" in the next 10-ish games.\n",
    "\n",
    "Have fun!"
   ]
  },
  {
   "cell_type": "markdown",
   "metadata": {},
   "source": [
    "<h1> -------------------------------------- <h1>"
   ]
  },
  {
   "cell_type": "markdown",
   "metadata": {},
   "source": [
    "# IMPORTS"
   ]
  },
  {
   "cell_type": "code",
   "execution_count": null,
   "metadata": {},
   "outputs": [],
   "source": [
    "import pandas as pd\n",
    "import numpy as np\n",
    "import random"
   ]
  },
  {
   "cell_type": "code",
   "execution_count": null,
   "metadata": {},
   "outputs": [],
   "source": [
    "data = pd.read_excel(\"Dominic System (1).xlsx\")"
   ]
  },
  {
   "cell_type": "code",
   "execution_count": null,
   "metadata": {},
   "outputs": [],
   "source": [
    "data.dropna(inplace=True)\n",
    "for i in range(0,len(data.columns)):\n",
    "    try:\n",
    "        if data.iloc[0,i].astype('int')/1==data.iloc[0,i].astype('int'):\n",
    "            data.iloc[:,i] = data.iloc[:,i].astype('int').astype('str')\n",
    "    except:\n",
    "        continue"
   ]
  },
  {
   "cell_type": "code",
   "execution_count": null,
   "metadata": {},
   "outputs": [],
   "source": [
    "data_rand = data"
   ]
  },
  {
   "cell_type": "markdown",
   "metadata": {},
   "source": [
    "# ANSWERS"
   ]
  },
  {
   "cell_type": "markdown",
   "metadata": {},
   "source": [
    "#### Run the next cell if you want to have a look at your complete dataset."
   ]
  },
  {
   "cell_type": "code",
   "execution_count": null,
   "metadata": {},
   "outputs": [],
   "source": [
    "pd.set_option('display.max_rows', int(data_rand.iloc[:,0].count()))\n",
    "data_rand"
   ]
  },
  {
   "cell_type": "markdown",
   "metadata": {},
   "source": [
    "# GAME"
   ]
  },
  {
   "cell_type": "markdown",
   "metadata": {},
   "source": [
    "#### Run the next cell to play the game."
   ]
  },
  {
   "cell_type": "code",
   "execution_count": null,
   "metadata": {},
   "outputs": [],
   "source": [
    "print(\"Combien de parties veux-tu faire ?\")\n",
    "j = int(input())\n",
    "print(\"\\n\")\n",
    "data_rand=data_rand.sample(frac=1).fillna(\"Vide\")\n",
    "\n",
    "for i in range(1,j+1):\n",
    "\n",
    "    data_rand.reset_index(drop=True,inplace=True)\n",
    "    col_rand = random.choice(data_rand.columns)\n",
    "    col_other = data_rand.columns.drop(col_rand)\n",
    "    data_show = data_rand.drop(data_rand.columns.drop(col_rand),axis=1).iloc[0,:].to_string()\n",
    "    print(str(data_show))\n",
    "    \n",
    "    rep = []\n",
    "    for k in range(0,len(col_other)):\n",
    "        print(col_other[k],\"?\")\n",
    "        rep.append(input())\n",
    "        if rep[k] == data_rand[col_other[k]][0]:\n",
    "            rep[k] = True\n",
    "        else:\n",
    "            rep[k] = False\n",
    "    print(\"\\n\")\n",
    "    \n",
    "    if False not in rep:\n",
    "        print('Bravo !')\n",
    "        print(\"\\n\")\n",
    "        first_value = data_rand.iloc[0,:]\n",
    "        index_value = random.randint(75,98)\n",
    "        first_value.name = index_value\n",
    "        data_rand = data_rand.append(first_value)\n",
    "        data_rand.sort_index(inplace=True)\n",
    "        data_rand.reset_index(drop=True,inplace=True)\n",
    "        data_rand.drop(0,inplace=True)\n",
    "    else:\n",
    "        print('Rincé')\n",
    "        print(\"\\n\")\n",
    "        first_value = data_rand.iloc[0,:]\n",
    "        index_value = random.randint(10,20)\n",
    "        first_value.name = index_value\n",
    "        data_rand = data_rand.append(first_value)\n",
    "        data_rand.sort_index(inplace=True)\n",
    "        data_rand.reset_index(drop=True,inplace=True)\n",
    "        data_rand.drop(0,inplace=True)\n",
    "    i=i+1"
   ]
  },
  {
   "cell_type": "code",
   "execution_count": null,
   "metadata": {},
   "outputs": [],
   "source": []
  }
 ],
 "metadata": {
  "kernelspec": {
   "display_name": "Python 3",
   "language": "python",
   "name": "python3"
  },
  "language_info": {
   "codemirror_mode": {
    "name": "ipython",
    "version": 3
   },
   "file_extension": ".py",
   "mimetype": "text/x-python",
   "name": "python",
   "nbconvert_exporter": "python",
   "pygments_lexer": "ipython3",
   "version": "3.7.4"
  }
 },
 "nbformat": 4,
 "nbformat_minor": 2
}
