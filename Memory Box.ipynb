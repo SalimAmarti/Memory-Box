{
 "cells": [
  {
   "cell_type": "markdown",
   "metadata": {},
   "source": [
    "# <font size=\"15\" color=\"darkcyan\"> MEMORY BOX </font>"
   ]
  },
  {
   "cell_type": "markdown",
   "metadata": {},
   "source": [
    "A memory box is a game to memorize new words based on the \"flashcard\" method. A \"flashcard\" is a card on which you can write a word on one side of the card, and write one piece of information on the other side. Then when you pick up a card and read one side, the objective is to remember what is written on the other side of the card.\n",
    "The beauty of this game is that it enables to learn in both ways. It is a well-known and efficient method to connect information together and remember it.\n",
    "\n",
    "<i> <u> Example</u>: Let's imagine your memory box is for learning countries and their capitals. If you pick a \"flashcard\" on which \"USA\" is written. You need to remember \"Washington\".\n",
    "And vice versa if you pick \"Washington\", you need to remember \"USA\". </i>\n",
    "\n",
    "In this code, the \"flashcard\" is not only limited to two pieces of information. You can have as many pieces of information as you need to remember. And the code will show you randomly any piece of information written on the \"flashcard\". You will then have to input all the other pieces of information connected to this \"flashcard\". \n",
    "\n",
    "Besides, the code will keep track of your progress. If you fail to remember one or more pieces of information of one \"flashcard\", you will be asked about that same \"flashcard\" in the next 10-ish games.\n",
    "\n",
    "<b> Have fun! </b>"
   ]
  },
  {
   "cell_type": "markdown",
   "metadata": {},
   "source": [
    "<b> -------------------------------------- </b>"
   ]
  },
  {
   "cell_type": "markdown",
   "metadata": {},
   "source": [
    "# IMPORTS"
   ]
  },
  {
   "cell_type": "code",
   "execution_count": null,
   "metadata": {},
   "outputs": [],
   "source": [
    "import pandas as pd\n",
    "import numpy as np\n",
    "import random\n",
    "import unidecode as ud"
   ]
  },
  {
   "cell_type": "markdown",
   "metadata": {},
   "source": [
    "# DATA EXTRACTION"
   ]
  },
  {
   "cell_type": "code",
   "execution_count": null,
   "metadata": {},
   "outputs": [],
   "source": [
    "#Input the excel file name in a variable\n",
    "file_name = input(\"What is the name of your file?\")"
   ]
  },
  {
   "cell_type": "code",
   "execution_count": null,
   "metadata": {},
   "outputs": [],
   "source": [
    "#Input the excel file in a variable\n",
    "data = pd.read_excel(file_name)"
   ]
  },
  {
   "cell_type": "code",
   "execution_count": null,
   "metadata": {},
   "outputs": [],
   "source": [
    "#Drop N/A values if the data file is not 100% cleaned\n",
    "data.dropna(inplace=True)\n",
    "\n",
    "#This for loop is to avoid any issues with potential numerical values in the dataset\n",
    "for i in range(0,len(data.columns)):\n",
    "    try:\n",
    "        if data.iloc[0,i].astype('int')/1==data.iloc[0,i].astype('int'):\n",
    "            data.iloc[:,i] = data.iloc[:,i].astype('int').astype('str')\n",
    "    except:\n",
    "        continue"
   ]
  },
  {
   "cell_type": "code",
   "execution_count": null,
   "metadata": {},
   "outputs": [],
   "source": [
    "#Input the dataset in another variable\n",
    "data_rand = data"
   ]
  },
  {
   "cell_type": "markdown",
   "metadata": {},
   "source": [
    "# ANSWERS"
   ]
  },
  {
   "cell_type": "markdown",
   "metadata": {},
   "source": [
    "#### Run the next cell if you want to have a look at your complete dataset."
   ]
  },
  {
   "cell_type": "code",
   "execution_count": null,
   "metadata": {},
   "outputs": [],
   "source": [
    "#This cell is to show the whole dataset if needed\n",
    "total_nb_rows = int(data_rand.iloc[:,0].count())\n",
    "pd.set_option('display.max_rows', total_nb_rows)\n",
    "data_rand"
   ]
  },
  {
   "cell_type": "markdown",
   "metadata": {},
   "source": [
    "# GAME"
   ]
  },
  {
   "cell_type": "markdown",
   "metadata": {},
   "source": [
    "#### Run the next cell to play the game."
   ]
  },
  {
   "cell_type": "code",
   "execution_count": null,
   "metadata": {},
   "outputs": [],
   "source": [
    "#Set the number of games\n",
    "print(\"How many games do you want to play?\")\n",
    "j = int(input())\n",
    "print(\"\\n\")\n",
    "\n",
    "#Randomly shuffle the dataset\n",
    "data_rand=data_rand.sample(frac=1)\n",
    "\n",
    "#For loop to iterate the games\n",
    "for i in range(1,j+1):\n",
    "\n",
    "    #Reorder the index after the random shuffle\n",
    "    data_rand.reset_index(drop=True,inplace=True)\n",
    "    #Select a random column that will be asked to the player (ex: 'Country')\n",
    "    col_rand = random.choice(data_rand.columns)\n",
    "    #Select the other columns without the random column\n",
    "    col_other = data_rand.columns.drop(col_rand)\n",
    "    #Show to the player the \"flashcard\" with the random column info (ex: 'USA')\n",
    "    data_show = data_rand.drop(data_rand.columns.drop(col_rand),axis=1).iloc[0,:].to_string()\n",
    "    print(str(data_show))\n",
    "    \n",
    "    rep = []\n",
    "    #For loop to ask the player about the other pieces of information on the \"flashcard\"\n",
    "    for k in range(0,len(col_other)):\n",
    "        print(col_other[k],\"?\")\n",
    "        rep.append(input())\n",
    "        #Depending on the player's answers, \"rep\" will be a list of Trues and/or Falses\n",
    "        if ud.unidecode(rep[k].lower().replace(\" \",\"\").replace(\"'\",\"\").replace(\"!\",\"\").replace(\".\",\"\").replace(\"-\",\"\")) == ud.unidecode(data_rand[col_other[k]][0].lower().replace(\" \",\"\").replace(\"'\",\"\").replace(\"!\",\"\").replace(\".\",\"\").replace(\"-\",\"\")):\n",
    "            rep[k] = True\n",
    "        else:\n",
    "            rep[k] = False\n",
    "    print(\"\\n\")\n",
    "    \n",
    "    #If there is no \"False\" in \"rep\", then the \"flashcard\" will be put far in the dataset as we assume\n",
    "    #that the player succeeded to fetch the information back\n",
    "    if False not in rep:\n",
    "        print('Bravo !')\n",
    "        print(\"\\n\")\n",
    "        first_value = data_rand.iloc[0,:]\n",
    "        index_value = random.randint(round(0.6*total_nb_rows),round(1*total_nb_rows))\n",
    "        first_value.name = index_value\n",
    "        data_rand = data_rand.append(first_value)\n",
    "        data_rand.sort_index(inplace=True)\n",
    "        data_rand.reset_index(drop=True,inplace=True)\n",
    "        data_rand.drop(0,inplace=True)\n",
    "    \n",
    "    #If there is at least one \"False\" in \"rep\", then the \"flashcard\" will be put close in the dataset\n",
    "    #in order to ask again the player about this specific \"flashcard\"\n",
    "    else:\n",
    "        print('Unfortunately, this is wrong...')\n",
    "        print(\"\\n\")\n",
    "        first_value = data_rand.iloc[0,:]\n",
    "        index_value = random.randint(round(0.1*total_nb_rows),round(0.2*total_nb_rows))\n",
    "        first_value.name = index_value\n",
    "        data_rand = data_rand.append(first_value)\n",
    "        data_rand.sort_index(inplace=True)\n",
    "        data_rand.reset_index(drop=True,inplace=True)\n",
    "        data_rand.drop(0,inplace=True)\n",
    "    i=i+1"
   ]
  },
  {
   "cell_type": "code",
   "execution_count": null,
   "metadata": {},
   "outputs": [],
   "source": []
  }
 ],
 "metadata": {
  "kernelspec": {
   "display_name": "Python 3",
   "language": "python",
   "name": "python3"
  },
  "language_info": {
   "codemirror_mode": {
    "name": "ipython",
    "version": 3
   },
   "file_extension": ".py",
   "mimetype": "text/x-python",
   "name": "python",
   "nbconvert_exporter": "python",
   "pygments_lexer": "ipython3",
   "version": "3.7.4"
  }
 },
 "nbformat": 4,
 "nbformat_minor": 2
}
